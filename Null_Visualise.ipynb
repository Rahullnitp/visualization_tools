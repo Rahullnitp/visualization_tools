{
  "nbformat": 4,
  "nbformat_minor": 0,
  "metadata": {
    "colab": {
      "name": "Null_Visualise.ipynb",
      "provenance": [],
      "include_colab_link": true
    },
    "kernelspec": {
      "name": "python3",
      "display_name": "Python 3"
    }
  },
  "cells": [
    {
      "cell_type": "markdown",
      "metadata": {
        "id": "view-in-github",
        "colab_type": "text"
      },
      "source": [
        "<a href=\"https://colab.research.google.com/github/Rahullnitp/visualization_tools/blob/master/Null_Visualise.ipynb\" target=\"_parent\"><img src=\"https://colab.research.google.com/assets/colab-badge.svg\" alt=\"Open In Colab\"/></a>"
      ]
    },
    {
      "cell_type": "markdown",
      "metadata": {
        "id": "xsaapKIXBdwt",
        "colab_type": "text"
      },
      "source": [
        "##Null Data Visualization"
      ]
    },
    {
      "cell_type": "code",
      "metadata": {
        "id": "Bh3qrfYcAOJL",
        "colab_type": "code",
        "colab": {}
      },
      "source": [
        "import os\n",
        "import pandas as pd\n",
        "import numpy as np\n",
        "import matplotlib.pyplot as plt\n",
        "import seaborn as sns\n",
        "%matplotlib inline"
      ],
      "execution_count": 0,
      "outputs": []
    },
    {
      "cell_type": "code",
      "metadata": {
        "id": "7WbXBXwXAeak",
        "colab_type": "code",
        "colab": {}
      },
      "source": [
        "#data creation without null values\n",
        "data=pd.DataFrame(np.random.randn(1000,4),columns=list('ABCD'))"
      ],
      "execution_count": 0,
      "outputs": []
    },
    {
      "cell_type": "code",
      "metadata": {
        "id": "pSB2SEI7Ag-p",
        "colab_type": "code",
        "colab": {
          "base_uri": "https://localhost:8080/",
          "height": 194
        },
        "outputId": "ddc85ce8-2fc8-4cb8-b9c6-93b56f094958"
      },
      "source": [
        "data.head()"
      ],
      "execution_count": 10,
      "outputs": [
        {
          "output_type": "execute_result",
          "data": {
            "text/html": [
              "<div>\n",
              "<style scoped>\n",
              "    .dataframe tbody tr th:only-of-type {\n",
              "        vertical-align: middle;\n",
              "    }\n",
              "\n",
              "    .dataframe tbody tr th {\n",
              "        vertical-align: top;\n",
              "    }\n",
              "\n",
              "    .dataframe thead th {\n",
              "        text-align: right;\n",
              "    }\n",
              "</style>\n",
              "<table border=\"1\" class=\"dataframe\">\n",
              "  <thead>\n",
              "    <tr style=\"text-align: right;\">\n",
              "      <th></th>\n",
              "      <th>A</th>\n",
              "      <th>B</th>\n",
              "      <th>C</th>\n",
              "      <th>D</th>\n",
              "    </tr>\n",
              "  </thead>\n",
              "  <tbody>\n",
              "    <tr>\n",
              "      <th>0</th>\n",
              "      <td>-1.101078</td>\n",
              "      <td>-2.392551</td>\n",
              "      <td>0.133908</td>\n",
              "      <td>1.170502</td>\n",
              "    </tr>\n",
              "    <tr>\n",
              "      <th>1</th>\n",
              "      <td>-0.441409</td>\n",
              "      <td>0.401118</td>\n",
              "      <td>0.322955</td>\n",
              "      <td>-1.380045</td>\n",
              "    </tr>\n",
              "    <tr>\n",
              "      <th>2</th>\n",
              "      <td>-0.921231</td>\n",
              "      <td>0.700295</td>\n",
              "      <td>-2.064755</td>\n",
              "      <td>-1.923385</td>\n",
              "    </tr>\n",
              "    <tr>\n",
              "      <th>3</th>\n",
              "      <td>-0.988186</td>\n",
              "      <td>-0.056942</td>\n",
              "      <td>-0.352975</td>\n",
              "      <td>0.633975</td>\n",
              "    </tr>\n",
              "    <tr>\n",
              "      <th>4</th>\n",
              "      <td>-0.359980</td>\n",
              "      <td>0.564120</td>\n",
              "      <td>0.809829</td>\n",
              "      <td>0.850672</td>\n",
              "    </tr>\n",
              "  </tbody>\n",
              "</table>\n",
              "</div>"
            ],
            "text/plain": [
              "          A         B         C         D\n",
              "0 -1.101078 -2.392551  0.133908  1.170502\n",
              "1 -0.441409  0.401118  0.322955 -1.380045\n",
              "2 -0.921231  0.700295 -2.064755 -1.923385\n",
              "3 -0.988186 -0.056942 -0.352975  0.633975\n",
              "4 -0.359980  0.564120  0.809829  0.850672"
            ]
          },
          "metadata": {
            "tags": []
          },
          "execution_count": 10
        }
      ]
    },
    {
      "cell_type": "code",
      "metadata": {
        "id": "c2iYGP7OAg0O",
        "colab_type": "code",
        "colab": {}
      },
      "source": [
        "#data update with some null values\n",
        "data_null = data.mask(np.random.random(data.shape)< .1)   # difference bn \"random.random\" and \"random.randn\" by this link --https://stackoverflow.com/questions/47231852/np-random-rand-vs-np-random-random"
      ],
      "execution_count": 0,
      "outputs": []
    },
    {
      "cell_type": "code",
      "metadata": {
        "id": "nvJpvcT1Ajgq",
        "colab_type": "code",
        "colab": {
          "base_uri": "https://localhost:8080/",
          "height": 194
        },
        "outputId": "610c2a9b-ee34-45e9-9542-4d5c8fcd620e"
      },
      "source": [
        "data_null.head()"
      ],
      "execution_count": 12,
      "outputs": [
        {
          "output_type": "execute_result",
          "data": {
            "text/html": [
              "<div>\n",
              "<style scoped>\n",
              "    .dataframe tbody tr th:only-of-type {\n",
              "        vertical-align: middle;\n",
              "    }\n",
              "\n",
              "    .dataframe tbody tr th {\n",
              "        vertical-align: top;\n",
              "    }\n",
              "\n",
              "    .dataframe thead th {\n",
              "        text-align: right;\n",
              "    }\n",
              "</style>\n",
              "<table border=\"1\" class=\"dataframe\">\n",
              "  <thead>\n",
              "    <tr style=\"text-align: right;\">\n",
              "      <th></th>\n",
              "      <th>A</th>\n",
              "      <th>B</th>\n",
              "      <th>C</th>\n",
              "      <th>D</th>\n",
              "    </tr>\n",
              "  </thead>\n",
              "  <tbody>\n",
              "    <tr>\n",
              "      <th>0</th>\n",
              "      <td>NaN</td>\n",
              "      <td>-2.392551</td>\n",
              "      <td>0.133908</td>\n",
              "      <td>1.170502</td>\n",
              "    </tr>\n",
              "    <tr>\n",
              "      <th>1</th>\n",
              "      <td>-0.441409</td>\n",
              "      <td>0.401118</td>\n",
              "      <td>NaN</td>\n",
              "      <td>-1.380045</td>\n",
              "    </tr>\n",
              "    <tr>\n",
              "      <th>2</th>\n",
              "      <td>-0.921231</td>\n",
              "      <td>0.700295</td>\n",
              "      <td>-2.064755</td>\n",
              "      <td>-1.923385</td>\n",
              "    </tr>\n",
              "    <tr>\n",
              "      <th>3</th>\n",
              "      <td>NaN</td>\n",
              "      <td>NaN</td>\n",
              "      <td>NaN</td>\n",
              "      <td>0.633975</td>\n",
              "    </tr>\n",
              "    <tr>\n",
              "      <th>4</th>\n",
              "      <td>-0.359980</td>\n",
              "      <td>0.564120</td>\n",
              "      <td>0.809829</td>\n",
              "      <td>0.850672</td>\n",
              "    </tr>\n",
              "  </tbody>\n",
              "</table>\n",
              "</div>"
            ],
            "text/plain": [
              "          A         B         C         D\n",
              "0       NaN -2.392551  0.133908  1.170502\n",
              "1 -0.441409  0.401118       NaN -1.380045\n",
              "2 -0.921231  0.700295 -2.064755 -1.923385\n",
              "3       NaN       NaN       NaN  0.633975\n",
              "4 -0.359980  0.564120  0.809829  0.850672"
            ]
          },
          "metadata": {
            "tags": []
          },
          "execution_count": 12
        }
      ]
    },
    {
      "cell_type": "markdown",
      "metadata": {
        "id": "FelOsipEBW5h",
        "colab_type": "text"
      },
      "source": [
        "###Percentage of null data in the dataframe."
      ]
    },
    {
      "cell_type": "code",
      "metadata": {
        "id": "lZkpM7TvArzO",
        "colab_type": "code",
        "colab": {
          "base_uri": "https://localhost:8080/",
          "height": 576
        },
        "outputId": "ee6effb5-fa06-46c6-aa30-2c306c9a88cc"
      },
      "source": [
        "#percentage of missing data\n",
        "plt.figure(figsize=(30,20))                        #calculating the % of missing Data for each column.\n",
        "plt.subplot(234)\n",
        "sns.heatmap(pd.DataFrame((data_null.isnull().sum()*100)/data_null.shape[0]),annot=True,cmap=sns.color_palette(\"dark\"),linewidths=1,linecolor=\"white\")\n",
        "plt.title(\"%_Missing_Data\")"
      ],
      "execution_count": 13,
      "outputs": [
        {
          "output_type": "execute_result",
          "data": {
            "text/plain": [
              "Text(0.5, 1, '%_Missing_Data')"
            ]
          },
          "metadata": {
            "tags": []
          },
          "execution_count": 13
        },
        {
          "output_type": "display_data",
          "data": {
            "image/png": "[encoded data removed]",
            "text/plain": [
              "<Figure size 2160x1440 with 2 Axes>"
            ]
          },
          "metadata": {
            "tags": []
          }
        }
      ]
    },
    {
      "cell_type": "code",
      "metadata": {
        "id": "MlBBcYkUBAvB",
        "colab_type": "code",
        "colab": {}
      },
      "source": [
        ""
      ],
      "execution_count": 0,
      "outputs": []
    }
  ]
}