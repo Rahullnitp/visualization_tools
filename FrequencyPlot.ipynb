{
  "nbformat": 4,
  "nbformat_minor": 0,
  "metadata": {
    "colab": {
      "name": "FrequencyPlot.ipynb",
      "provenance": [],
      "collapsed_sections": [],
      "include_colab_link": true
    },
    "kernelspec": {
      "name": "python3",
      "display_name": "Python 3"
    }
  },
  "cells": [
    {
      "cell_type": "markdown",
      "metadata": {
        "id": "view-in-github",
        "colab_type": "text"
      },
      "source": [
        "<a href=\"https://colab.research.google.com/github/Rahullnitp/visualization_tools/blob/master/FrequencyPlot.ipynb\" target=\"_parent\"><img src=\"https://colab.research.google.com/assets/colab-badge.svg\" alt=\"Open In Colab\"/></a>"
      ]
    },
    {
      "cell_type": "markdown",
      "metadata": {
        "id": "7zLz6b5AEgV8",
        "colab_type": "text"
      },
      "source": [
        "##Count plot : \n",
        "#####Different way to plot the frequency of occurence of value in categorical feature."
      ]
    },
    {
      "cell_type": "code",
      "metadata": {
        "id": "zxe__K7vzZov",
        "colab_type": "code",
        "colab": {}
      },
      "source": [
        "import os\n",
        "import numpy as np\n",
        "import pandas as pd\n",
        "import seaborn as sns\n",
        "import matplotlib.pyplot as plt\n",
        "%matplotlib inline"
      ],
      "execution_count": 0,
      "outputs": []
    },
    {
      "cell_type": "code",
      "metadata": {
        "id": "gN0yz8eKzs_q",
        "colab_type": "code",
        "colab": {}
      },
      "source": [
        "#data creation without null values\n",
        "data=pd.DataFrame(np.random.randn(1000,4),columns=list('ABCD'))"
      ],
      "execution_count": 0,
      "outputs": []
    },
    {
      "cell_type": "code",
      "metadata": {
        "id": "oql_58isDx75",
        "colab_type": "code",
        "colab": {}
      },
      "source": [
        "data['category'] = np.random.choice(a=[0, 1, 2, 3],size=1000,p=[0.4, 0.3, 0.2,0.1]  )  #adding a categorical feature that we have to plot."
      ],
      "execution_count": 0,
      "outputs": []
    },
    {
      "cell_type": "code",
      "metadata": {
        "id": "eKPBMVBtz3y2",
        "colab_type": "code",
        "outputId": "63f557bd-752b-4fb7-818b-0d95f615af47",
        "colab": {
          "base_uri": "https://localhost:8080/",
          "height": 204
        }
      },
      "source": [
        "data.head()"
      ],
      "execution_count": 0,
      "outputs": [
        {
          "output_type": "execute_result",
          "data": {
            "text/html": [
              "<div>\n",
              "<style scoped>\n",
              "    .dataframe tbody tr th:only-of-type {\n",
              "        vertical-align: middle;\n",
              "    }\n",
              "\n",
              "    .dataframe tbody tr th {\n",
              "        vertical-align: top;\n",
              "    }\n",
              "\n",
              "    .dataframe thead th {\n",
              "        text-align: right;\n",
              "    }\n",
              "</style>\n",
              "<table border=\"1\" class=\"dataframe\">\n",
              "  <thead>\n",
              "    <tr style=\"text-align: right;\">\n",
              "      <th></th>\n",
              "      <th>A</th>\n",
              "      <th>B</th>\n",
              "      <th>C</th>\n",
              "      <th>D</th>\n",
              "      <th>category</th>\n",
              "    </tr>\n",
              "  </thead>\n",
              "  <tbody>\n",
              "    <tr>\n",
              "      <th>0</th>\n",
              "      <td>1.091681</td>\n",
              "      <td>0.007639</td>\n",
              "      <td>-1.982777</td>\n",
              "      <td>-0.589789</td>\n",
              "      <td>2</td>\n",
              "    </tr>\n",
              "    <tr>\n",
              "      <th>1</th>\n",
              "      <td>-0.506893</td>\n",
              "      <td>1.211662</td>\n",
              "      <td>0.400111</td>\n",
              "      <td>0.981174</td>\n",
              "      <td>2</td>\n",
              "    </tr>\n",
              "    <tr>\n",
              "      <th>2</th>\n",
              "      <td>1.405275</td>\n",
              "      <td>-1.855433</td>\n",
              "      <td>1.470097</td>\n",
              "      <td>1.047091</td>\n",
              "      <td>1</td>\n",
              "    </tr>\n",
              "    <tr>\n",
              "      <th>3</th>\n",
              "      <td>0.681363</td>\n",
              "      <td>-1.490810</td>\n",
              "      <td>1.248329</td>\n",
              "      <td>-0.753037</td>\n",
              "      <td>1</td>\n",
              "    </tr>\n",
              "    <tr>\n",
              "      <th>4</th>\n",
              "      <td>0.634217</td>\n",
              "      <td>0.521734</td>\n",
              "      <td>1.293016</td>\n",
              "      <td>1.111020</td>\n",
              "      <td>3</td>\n",
              "    </tr>\n",
              "  </tbody>\n",
              "</table>\n",
              "</div>"
            ],
            "text/plain": [
              "          A         B         C         D  category\n",
              "0  1.091681  0.007639 -1.982777 -0.589789         2\n",
              "1 -0.506893  1.211662  0.400111  0.981174         2\n",
              "2  1.405275 -1.855433  1.470097  1.047091         1\n",
              "3  0.681363 -1.490810  1.248329 -0.753037         1\n",
              "4  0.634217  0.521734  1.293016  1.111020         3"
            ]
          },
          "metadata": {
            "tags": []
          },
          "execution_count": 10
        }
      ]
    },
    {
      "cell_type": "code",
      "metadata": {
        "id": "sBjtwu6Cz6-1",
        "colab_type": "code",
        "colab": {}
      },
      "source": [
        "#data update with some null values\n",
        "data_null = data.mask(np.random.random(data.shape)< .1)   # difference bn \"random.random\" and \"random.randn\" by this link --https://stackoverflow.com/questions/47231852/np-random-rand-vs-np-random-random"
      ],
      "execution_count": 0,
      "outputs": []
    },
    {
      "cell_type": "code",
      "metadata": {
        "id": "C98QGdct0Dir",
        "colab_type": "code",
        "outputId": "068e5cd4-c763-46ce-ed65-beba4707c2a5",
        "colab": {
          "base_uri": "https://localhost:8080/",
          "height": 204
        }
      },
      "source": [
        "data_null.head()"
      ],
      "execution_count": 0,
      "outputs": [
        {
          "output_type": "execute_result",
          "data": {
            "text/html": [
              "<div>\n",
              "<style scoped>\n",
              "    .dataframe tbody tr th:only-of-type {\n",
              "        vertical-align: middle;\n",
              "    }\n",
              "\n",
              "    .dataframe tbody tr th {\n",
              "        vertical-align: top;\n",
              "    }\n",
              "\n",
              "    .dataframe thead th {\n",
              "        text-align: right;\n",
              "    }\n",
              "</style>\n",
              "<table border=\"1\" class=\"dataframe\">\n",
              "  <thead>\n",
              "    <tr style=\"text-align: right;\">\n",
              "      <th></th>\n",
              "      <th>A</th>\n",
              "      <th>B</th>\n",
              "      <th>C</th>\n",
              "      <th>D</th>\n",
              "      <th>category</th>\n",
              "    </tr>\n",
              "  </thead>\n",
              "  <tbody>\n",
              "    <tr>\n",
              "      <th>0</th>\n",
              "      <td>1.091681</td>\n",
              "      <td>0.007639</td>\n",
              "      <td>-1.982777</td>\n",
              "      <td>-0.589789</td>\n",
              "      <td>2.0</td>\n",
              "    </tr>\n",
              "    <tr>\n",
              "      <th>1</th>\n",
              "      <td>-0.506893</td>\n",
              "      <td>1.211662</td>\n",
              "      <td>0.400111</td>\n",
              "      <td>0.981174</td>\n",
              "      <td>2.0</td>\n",
              "    </tr>\n",
              "    <tr>\n",
              "      <th>2</th>\n",
              "      <td>1.405275</td>\n",
              "      <td>-1.855433</td>\n",
              "      <td>1.470097</td>\n",
              "      <td>1.047091</td>\n",
              "      <td>NaN</td>\n",
              "    </tr>\n",
              "    <tr>\n",
              "      <th>3</th>\n",
              "      <td>0.681363</td>\n",
              "      <td>-1.490810</td>\n",
              "      <td>1.248329</td>\n",
              "      <td>NaN</td>\n",
              "      <td>1.0</td>\n",
              "    </tr>\n",
              "    <tr>\n",
              "      <th>4</th>\n",
              "      <td>NaN</td>\n",
              "      <td>0.521734</td>\n",
              "      <td>1.293016</td>\n",
              "      <td>1.111020</td>\n",
              "      <td>NaN</td>\n",
              "    </tr>\n",
              "  </tbody>\n",
              "</table>\n",
              "</div>"
            ],
            "text/plain": [
              "          A         B         C         D  category\n",
              "0  1.091681  0.007639 -1.982777 -0.589789       2.0\n",
              "1 -0.506893  1.211662  0.400111  0.981174       2.0\n",
              "2  1.405275 -1.855433  1.470097  1.047091       NaN\n",
              "3  0.681363 -1.490810  1.248329       NaN       1.0\n",
              "4       NaN  0.521734  1.293016  1.111020       NaN"
            ]
          },
          "metadata": {
            "tags": []
          },
          "execution_count": 12
        }
      ]
    },
    {
      "cell_type": "markdown",
      "metadata": {
        "id": "ykj7vedAF5Fj",
        "colab_type": "text"
      },
      "source": [
        "##count plot using 'sns.countplot' on :\n",
        "  y-axis"
      ]
    },
    {
      "cell_type": "code",
      "metadata": {
        "id": "sqrTHuHT0MPs",
        "colab_type": "code",
        "outputId": "3177d2da-b0bd-4b80-cf73-6ea8c393cbeb",
        "colab": {
          "base_uri": "https://localhost:8080/",
          "height": 285
        }
      },
      "source": [
        "sns.set(style=\"darkgrid\")\n",
        "ax = sns.countplot(y=\"category\", data=data)  #plot on y-axis ,change the argument y to x to get the plot in x axis as shown below."
      ],
      "execution_count": 0,
      "outputs": [
        {
          "output_type": "display_data",
          "data": {
            "image/png": "[encoded data removed]",
            "text/plain": [
              "<Figure size 432x288 with 1 Axes>"
            ]
          },
          "metadata": {
            "tags": []
          }
        }
      ]
    },
    {
      "cell_type": "markdown",
      "metadata": {
        "id": "hWe04kpiG-ZS",
        "colab_type": "text"
      },
      "source": [
        "x-axis"
      ]
    },
    {
      "cell_type": "code",
      "metadata": {
        "id": "w54oZwoeEWS1",
        "colab_type": "code",
        "colab": {
          "base_uri": "https://localhost:8080/",
          "height": 285
        },
        "outputId": "10a6e9c5-be91-43ca-f653-930a3ed70cb6"
      },
      "source": [
        "sns.set(style=\"darkgrid\")\n",
        "ax = sns.countplot(x=\"category\", data=data)"
      ],
      "execution_count": 15,
      "outputs": [
        {
          "output_type": "display_data",
          "data": {
            "image/png": "[encoded data removed]",
            "text/plain": [
              "<Figure size 432x288 with 1 Axes>"
            ]
          },
          "metadata": {
            "tags": []
          }
        }
      ]
    },
    {
      "cell_type": "markdown",
      "metadata": {
        "id": "M_3_3iS3HVtN",
        "colab_type": "text"
      },
      "source": [
        "##Count plot using 'value_counts' "
      ]
    },
    {
      "cell_type": "code",
      "metadata": {
        "id": "cOrJ9sXSHDIg",
        "colab_type": "code",
        "colab": {
          "base_uri": "https://localhost:8080/",
          "height": 265
        },
        "outputId": "7771aa8c-2286-4c55-f91e-29bca736bbe9"
      },
      "source": [
        "data['category'].value_counts().plot(kind='bar');"
      ],
      "execution_count": 16,
      "outputs": [
        {
          "output_type": "display_data",
          "data": {
            "image/png": "[encoded data removed]",
            "text/plain": [
              "<Figure size 432x288 with 1 Axes>"
            ]
          },
          "metadata": {
            "tags": []
          }
        }
      ]
    },
    {
      "cell_type": "code",
      "metadata": {
        "id": "YWO-XmnhHhtd",
        "colab_type": "code",
        "colab": {}
      },
      "source": [
        ""
      ],
      "execution_count": 0,
      "outputs": []
    }
  ]
}